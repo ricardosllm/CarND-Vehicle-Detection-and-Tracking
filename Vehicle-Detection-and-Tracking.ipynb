{
 "cells": [
  {
   "cell_type": "markdown",
   "metadata": {},
   "source": [
    "# Vehicle Detection and Tracking"
   ]
  },
  {
   "cell_type": "code",
   "execution_count": 1,
   "metadata": {
    "collapsed": true
   },
   "outputs": [],
   "source": [
    "import matplotlib.image as mpimg\n",
    "import matplotlib.pyplot as plt\n",
    "import numpy as np\n",
    "import cv2\n",
    "import glob\n",
    "import time\n",
    "\n",
    "%matplotlib inline"
   ]
  },
  {
   "cell_type": "code",
   "execution_count": 2,
   "metadata": {},
   "outputs": [
    {
     "data": {
      "text/html": [
       "<style>\n",
       ".output_wrapper, .output {\n",
       "    height:auto !important;\n",
       "    max-height:9999;\n",
       "}\n",
       ".output_scroll {\n",
       "    box-shadow:none !important;\n",
       "    webkit-box-shadow:none !important;\n",
       "}\n",
       "</style>"
      ],
      "text/plain": [
       "<IPython.core.display.HTML object>"
      ]
     },
     "metadata": {},
     "output_type": "display_data"
    }
   ],
   "source": [
    "%%html\n",
    "<style>\n",
    ".output_wrapper, .output {\n",
    "    height:auto !important;\n",
    "    max-height:9999;\n",
    "}\n",
    ".output_scroll {\n",
    "    box-shadow:none !important;\n",
    "    webkit-box-shadow:none !important;\n",
    "}\n",
    "</style>"
   ]
  },
  {
   "cell_type": "code",
   "execution_count": 3,
   "metadata": {
    "collapsed": true
   },
   "outputs": [],
   "source": [
    "import sys\n",
    "\n",
    "def print_progress(iteration, total):\n",
    "    str_format = \"{0:.0f}\"\n",
    "    percents = str_format.format(100 * (iteration / float(total)))\n",
    "    filled_length = int(round(100 * iteration / float(total)))\n",
    "    bar = '█' * filled_length + '-' * (100 - filled_length)\n",
    "\n",
    "    sys.stdout.write('\\r |%s| %s%%' % (bar, percents)),\n",
    "\n",
    "    if iteration == total:\n",
    "        sys.stdout.write('\\n')\n",
    "    sys.stdout.flush()"
   ]
  },
  {
   "cell_type": "markdown",
   "metadata": {},
   "source": [
    "## Training a Classifier"
   ]
  },
  {
   "cell_type": "markdown",
   "metadata": {},
   "source": [
    "### Reading the labeled data"
   ]
  },
  {
   "cell_type": "code",
   "execution_count": 4,
   "metadata": {},
   "outputs": [
    {
     "name": "stdout",
     "output_type": "stream",
     "text": [
      " |████████████████████████████████████████████████████████████████████████████████████████████████████| 100%\n",
      " |████████████████████████████████████████████████████████████████████████████████████████████████████| 100%\n",
      "Data imported.\n",
      "Vehicle image count: 8792\n",
      "Non Vehicle image count: 8968\n"
     ]
    }
   ],
   "source": [
    "vehicles = []\n",
    "non_vehicles = []\n",
    "vehicles_paths = glob.glob('labeled_data/vehicles/*/*.png')\n",
    "non_vehicles_paths = glob.glob('labeled_data/non-vehicles/*/*.png')\n",
    "\n",
    "def append_labeled_data(items, data_type):\n",
    "    for item in items:\n",
    "        data_type.append(mpimg.imread(item))\n",
    "        print_progress(len(data_type), len(items))\n",
    "        \n",
    "    \n",
    "append_labeled_data(vehicles_paths, vehicles)\n",
    "append_labeled_data(non_vehicles_paths, non_vehicles)\n",
    "\n",
    "# convert vehicles and non vehicles to numpy arrays\n",
    "vehicles = np.asarray(vehicles)\n",
    "non_vehicles = np.asarray(non_vehicles)\n",
    "\n",
    "print('Data imported.')\n",
    "\n",
    "print('Vehicle image count: {}'.format(vehicles.shape[0]))\n",
    "print('Non Vehicle image count: {}'.format(non_vehicles.shape[0]))\n",
    "\n"
   ]
  },
  {
   "cell_type": "markdown",
   "metadata": {},
   "source": [
    "### Extracting Features "
   ]
  },
  {
   "cell_type": "code",
   "execution_count": 6,
   "metadata": {},
   "outputs": [
    {
     "name": "stdout",
     "output_type": "stream",
     "text": [
      " |----------------------------------------------------------------------------------------------------| 0%"
     ]
    },
    {
     "name": "stderr",
     "output_type": "stream",
     "text": [
      "/Users/mota/anaconda3/envs/carnd-term1/lib/python3.5/site-packages/skimage/feature/_hog.py:119: skimage_deprecation: Default value of `block_norm`==`L1` is deprecated and will be changed to `L2-Hys` in v0.15\n",
      "  'be changed to `L2-Hys` in v0.15', skimage_deprecation)\n"
     ]
    },
    {
     "name": "stdout",
     "output_type": "stream",
     "text": [
      " |████████████████████████████████████████████████████████████████████████████████████████████████████| 100%\n",
      " |████████████████████████████████████████████████████████████████████████████████████████████████████| 100%\n"
     ]
    }
   ],
   "source": [
    "from skimage.feature import hog\n",
    "\n",
    "class ExtractFeatures(object):\n",
    "    \"\"\"Abstracts the multiple features that are extracted from each frame/image\"\"\"\n",
    "    \n",
    "    def __init__(self, img):    \n",
    "        # convert img to YCrCb\n",
    "        self.img = cv2.cvtColor(img, cv2.COLOR_RGB2YCrCb)\n",
    "        self.height = self.img.shape[0]\n",
    "        self.width  = self.img.shape[1]\n",
    "        self.depth  = self.img.shape[2]\n",
    "        self.pix_per_cell = 8\n",
    "        self.features_hog = []\n",
    "        self._init_hog()\n",
    "        \n",
    "    def _init_hog(self):\n",
    "        for channel in range(self.depth):\n",
    "            hog_feature = hog(self.img[:, :, channel], \n",
    "                              orientations=10, \n",
    "                              pixels_per_cell=(self.pix_per_cell, self.pix_per_cell),\n",
    "                              cells_per_block=(2, 2), \n",
    "                              transform_sqrt=True, \n",
    "                              visualise=False,\n",
    "                              feature_vector=False)\n",
    "            self.features_hog.append(hog_feature)\n",
    "        # Convert to np array\n",
    "        self.features_hog = np.asarray(self.features_hog)\n",
    "        \n",
    "    def _hog(self, x, y, s):\n",
    "        _x = max((x // self.pix_per_cell) - 1, 0)\n",
    "        _y = max((y // self.pix_per_cell) - 1, 0)\n",
    "        _s = (s // self.pix_per_cell) - 1\n",
    "        \n",
    "        if (_x + _s) > self.features_hog.shape[2]:\n",
    "            _x = self.features_hog.shape[2] - _s\n",
    "            \n",
    "        if (_y + _s) > self.features_hog.shape[1]:\n",
    "            _y = self.features_hog.shape[1] - _s\n",
    "        \n",
    "        hog_region_features = np.ravel(self.features_hog[:, _y:_y + _s, _x:_x + _s, :, :, :])\n",
    "        \n",
    "        return hog_region_features\n",
    "    \n",
    "    def _bin_spatial(self, img, size=(32, 32)):\n",
    "        spacial_vector = cv2.resize(img, size).ravel()\n",
    "        \n",
    "        return spacial_vector\n",
    "        \n",
    "    def _color_hist(self, img, nbins=32, bins_range=(0, 256)):\n",
    "        # Compute the histogram of the color channels separately\n",
    "        channel1_hist = np.histogram(img[:,:,0], bins=nbins, range=bins_range)\n",
    "        channel2_hist = np.histogram(img[:,:,1], bins=nbins, range=bins_range)\n",
    "        channel3_hist = np.histogram(img[:,:,2], bins=nbins, range=bins_range)\n",
    "        # Concatenate the histograms into a single feature vector\n",
    "        hist_features = np.concatenate((channel1_hist[0], channel2_hist[0], channel3_hist[0]))\n",
    "        # Return the individual histograms, bin_centers and feature vector\n",
    "        return hist_features\n",
    "    \n",
    "    def features(self, x=0, y=0, s=64):\n",
    "        \"\"\"Returns a vector of the concatenated features\"\"\"\n",
    "        features = []\n",
    "        # Add spactial features\n",
    "        spatial = self._bin_spatial(self.img[y:y + s, x:x + s, :])\n",
    "        features.append(spatial)\n",
    "        # Add HOG features \n",
    "        hog = self._hog(x, y, s)\n",
    "        features.append(hog)\n",
    "        # Add Histogram features\n",
    "        hist = self._color_hist(self.img[y:y + s, x:x + s, :])\n",
    "        features.append(hist)\n",
    "        # Finally concatente them all and return\n",
    "        return np.concatenate(features)\n",
    "        \n",
    "\n",
    "def extract_features(items, data_features):\n",
    "    for item in items:\n",
    "        features = ExtractFeatures(item).features()\n",
    "        data_features.append(features)\n",
    "        print_progress(len(data_features), len(items))\n",
    "\n",
    "vehicle_features = []\n",
    "non_vehicle_features = []\n",
    "\n",
    "extract_features(vehicles, vehicle_features)\n",
    "extract_features(non_vehicles, non_vehicle_features)\n",
    "\n",
    "X = np.vstack((vehicle_features, non_vehicle_features)).astype(np.float64)"
   ]
  },
  {
   "cell_type": "markdown",
   "metadata": {
    "collapsed": true
   },
   "source": [
    "### Scalling Features"
   ]
  },
  {
   "cell_type": "code",
   "execution_count": 8,
   "metadata": {
    "collapsed": true
   },
   "outputs": [],
   "source": [
    "from sklearn.preprocessing import StandardScaler\n",
    "\n",
    "X_scaler = StandardScaler().fit(X)\n",
    "scaled_X = X_scaler.transform(X)\n",
    "y = np.hstack((np.ones(len(vehicle_features)), np.zeros(len(non_vehicle_features))))\n"
   ]
  },
  {
   "cell_type": "markdown",
   "metadata": {},
   "source": [
    "### Train the classifier: Linear SVC"
   ]
  },
  {
   "cell_type": "code",
   "execution_count": 12,
   "metadata": {},
   "outputs": [
    {
     "name": "stdout",
     "output_type": "stream",
     "text": [
      "Classifier Accuracy: 0.98902\n"
     ]
    }
   ],
   "source": [
    "from sklearn.svm import LinearSVC\n",
    "from sklearn.model_selection import train_test_split\n",
    "\n",
    "X_train, X_test, y_train, y_test = train_test_split(scaled_X, y, test_size=0.2, random_state=43)\n",
    "linear_svc = LinearSVC()\n",
    "linear_svc.fit(X_train, y_train)\n",
    "accuracy = round(linear_svc.score(X_test, y_test), 5)\n",
    "print('Classifier Accuracy: {}'.format(accuracy))"
   ]
  },
  {
   "cell_type": "markdown",
   "metadata": {},
   "source": [
    "## Detect Vehicles using the classifier"
   ]
  },
  {
   "cell_type": "code",
   "execution_count": null,
   "metadata": {
    "collapsed": true
   },
   "outputs": [],
   "source": []
  },
  {
   "cell_type": "markdown",
   "metadata": {},
   "source": [
    "## Use the classifier on a set of test images"
   ]
  },
  {
   "cell_type": "code",
   "execution_count": null,
   "metadata": {
    "collapsed": true
   },
   "outputs": [],
   "source": []
  }
 ],
 "metadata": {
  "kernelspec": {
   "display_name": "Python 3",
   "language": "python",
   "name": "python3"
  },
  "language_info": {
   "codemirror_mode": {
    "name": "ipython",
    "version": 3
   },
   "file_extension": ".py",
   "mimetype": "text/x-python",
   "name": "python",
   "nbconvert_exporter": "python",
   "pygments_lexer": "ipython3",
   "version": "3.5.2"
  },
  "widgets": {
   "state": {},
   "version": "1.1.2"
  }
 },
 "nbformat": 4,
 "nbformat_minor": 2
}
